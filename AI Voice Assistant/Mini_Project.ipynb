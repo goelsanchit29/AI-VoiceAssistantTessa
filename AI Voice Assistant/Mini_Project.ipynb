{
 "cells": [
  {
   "cell_type": "markdown",
   "id": "051aa385",
   "metadata": {},
   "source": [
    "# Speech Recognition and Assistance"
   ]
  },
  {
   "cell_type": "code",
   "execution_count": 1,
   "id": "b12e5460",
   "metadata": {},
   "outputs": [
    {
     "name": "stdout",
     "output_type": "stream",
     "text": [
      "Collecting SpeechRecognition\n",
      "  Downloading SpeechRecognition-3.10.0-py2.py3-none-any.whl (32.8 MB)\n",
      "     ---------------------------------------- 0.0/32.8 MB ? eta -:--:--\n",
      "     --------------------------------------- 0.0/32.8 MB 640.0 kB/s eta 0:00:52\n",
      "     ---------------------------------------- 0.3/32.8 MB 3.8 MB/s eta 0:00:09\n",
      "      --------------------------------------- 0.8/32.8 MB 6.4 MB/s eta 0:00:06\n",
      "     - -------------------------------------- 1.4/32.8 MB 7.9 MB/s eta 0:00:05\n",
      "     -- ------------------------------------- 1.9/32.8 MB 8.6 MB/s eta 0:00:04\n",
      "     -- ------------------------------------- 2.3/32.8 MB 8.6 MB/s eta 0:00:04\n",
      "     --- ------------------------------------ 2.5/32.8 MB 8.1 MB/s eta 0:00:04\n",
      "     --- ------------------------------------ 2.7/32.8 MB 7.5 MB/s eta 0:00:05\n",
      "     --- ------------------------------------ 2.9/32.8 MB 7.0 MB/s eta 0:00:05\n",
      "     --- ------------------------------------ 3.1/32.8 MB 6.5 MB/s eta 0:00:05\n",
      "     --- ------------------------------------ 3.2/32.8 MB 6.3 MB/s eta 0:00:05\n",
      "     ---- ----------------------------------- 3.5/32.8 MB 6.1 MB/s eta 0:00:05\n",
      "     ---- ----------------------------------- 3.7/32.8 MB 6.0 MB/s eta 0:00:05\n",
      "     ---- ----------------------------------- 3.9/32.8 MB 6.0 MB/s eta 0:00:05\n",
      "     ----- ---------------------------------- 4.1/32.8 MB 6.0 MB/s eta 0:00:05\n",
      "     ----- ---------------------------------- 4.2/32.8 MB 5.6 MB/s eta 0:00:06\n",
      "     ----- ---------------------------------- 4.5/32.8 MB 5.7 MB/s eta 0:00:05\n",
      "     ----- ---------------------------------- 4.7/32.8 MB 5.6 MB/s eta 0:00:06\n",
      "     ------ --------------------------------- 5.0/32.8 MB 5.6 MB/s eta 0:00:05\n",
      "     ------ --------------------------------- 5.2/32.8 MB 5.5 MB/s eta 0:00:06\n",
      "     ------ --------------------------------- 5.4/32.8 MB 5.5 MB/s eta 0:00:05\n",
      "     ------- -------------------------------- 5.8/32.8 MB 5.6 MB/s eta 0:00:05\n",
      "     ------- -------------------------------- 6.0/32.8 MB 5.5 MB/s eta 0:00:05\n",
      "     ------- -------------------------------- 6.4/32.8 MB 5.7 MB/s eta 0:00:05\n",
      "     -------- ------------------------------- 6.8/32.8 MB 5.8 MB/s eta 0:00:05\n",
      "     -------- ------------------------------- 7.3/32.8 MB 5.9 MB/s eta 0:00:05\n",
      "     --------- ------------------------------ 7.7/32.8 MB 6.1 MB/s eta 0:00:05\n",
      "     --------- ------------------------------ 8.2/32.8 MB 6.2 MB/s eta 0:00:04\n",
      "     ---------- ----------------------------- 8.4/32.8 MB 6.1 MB/s eta 0:00:04\n",
      "     ---------- ----------------------------- 8.5/32.8 MB 6.0 MB/s eta 0:00:05\n",
      "     ---------- ----------------------------- 8.7/32.8 MB 5.9 MB/s eta 0:00:05\n",
      "     ---------- ----------------------------- 8.9/32.8 MB 5.9 MB/s eta 0:00:05\n",
      "     ----------- ---------------------------- 9.1/32.8 MB 5.8 MB/s eta 0:00:05\n",
      "     ----------- ---------------------------- 9.4/32.8 MB 5.8 MB/s eta 0:00:05\n",
      "     ----------- ---------------------------- 9.7/32.8 MB 5.8 MB/s eta 0:00:04\n",
      "     ------------ --------------------------- 10.0/32.8 MB 5.8 MB/s eta 0:00:04\n",
      "     ------------ --------------------------- 10.3/32.8 MB 6.0 MB/s eta 0:00:04\n",
      "     ------------ --------------------------- 10.6/32.8 MB 6.0 MB/s eta 0:00:04\n",
      "     ------------- -------------------------- 11.0/32.8 MB 5.9 MB/s eta 0:00:04\n",
      "     ------------- -------------------------- 11.4/32.8 MB 5.8 MB/s eta 0:00:04\n",
      "     -------------- ------------------------- 11.7/32.8 MB 5.8 MB/s eta 0:00:04\n",
      "     -------------- ------------------------- 12.0/32.8 MB 5.7 MB/s eta 0:00:04\n",
      "     --------------- ------------------------ 12.3/32.8 MB 5.7 MB/s eta 0:00:04\n",
      "     --------------- ------------------------ 12.5/32.8 MB 5.7 MB/s eta 0:00:04\n",
      "     --------------- ------------------------ 12.8/32.8 MB 5.7 MB/s eta 0:00:04\n",
      "     --------------- ------------------------ 13.1/32.8 MB 5.7 MB/s eta 0:00:04\n",
      "     ---------------- ----------------------- 13.4/32.8 MB 5.8 MB/s eta 0:00:04\n",
      "     ---------------- ----------------------- 13.6/32.8 MB 5.9 MB/s eta 0:00:04\n",
      "     ---------------- ----------------------- 13.9/32.8 MB 6.0 MB/s eta 0:00:04\n",
      "     ----------------- ---------------------- 14.2/32.8 MB 6.0 MB/s eta 0:00:04\n",
      "     ----------------- ---------------------- 14.5/32.8 MB 6.1 MB/s eta 0:00:04\n",
      "     ----------------- ---------------------- 14.7/32.8 MB 6.1 MB/s eta 0:00:03\n",
      "     ------------------ --------------------- 15.0/32.8 MB 6.2 MB/s eta 0:00:03\n",
      "     ------------------ --------------------- 15.3/32.8 MB 6.1 MB/s eta 0:00:03\n",
      "     ------------------ --------------------- 15.5/32.8 MB 6.2 MB/s eta 0:00:03\n",
      "     ------------------- -------------------- 15.8/32.8 MB 6.2 MB/s eta 0:00:03\n",
      "     ------------------- -------------------- 16.1/32.8 MB 6.2 MB/s eta 0:00:03\n",
      "     ------------------- -------------------- 16.4/32.8 MB 6.2 MB/s eta 0:00:03\n",
      "     -------------------- ------------------- 16.6/32.8 MB 6.1 MB/s eta 0:00:03\n",
      "     -------------------- ------------------- 16.8/32.8 MB 6.0 MB/s eta 0:00:03\n",
      "     -------------------- ------------------- 17.1/32.8 MB 6.0 MB/s eta 0:00:03\n",
      "     --------------------- ------------------ 17.4/32.8 MB 5.9 MB/s eta 0:00:03\n",
      "     --------------------- ------------------ 17.6/32.8 MB 5.8 MB/s eta 0:00:03\n",
      "     --------------------- ------------------ 17.8/32.8 MB 5.8 MB/s eta 0:00:03\n",
      "     ---------------------- ----------------- 18.2/32.8 MB 5.7 MB/s eta 0:00:03\n",
      "     ---------------------- ----------------- 18.5/32.8 MB 5.6 MB/s eta 0:00:03\n",
      "     ---------------------- ----------------- 18.7/32.8 MB 5.7 MB/s eta 0:00:03\n",
      "     ----------------------- ---------------- 19.0/32.8 MB 5.8 MB/s eta 0:00:03\n",
      "     ----------------------- ---------------- 19.3/32.8 MB 5.8 MB/s eta 0:00:03\n",
      "     ----------------------- ---------------- 19.6/32.8 MB 5.9 MB/s eta 0:00:03\n",
      "     ------------------------ --------------- 19.8/32.8 MB 5.9 MB/s eta 0:00:03\n",
      "     ------------------------ --------------- 20.1/32.8 MB 5.8 MB/s eta 0:00:03\n",
      "     ------------------------ --------------- 20.3/32.8 MB 5.9 MB/s eta 0:00:03\n",
      "     ------------------------- -------------- 20.6/32.8 MB 5.8 MB/s eta 0:00:03\n",
      "     ------------------------- -------------- 20.9/32.8 MB 5.8 MB/s eta 0:00:03\n",
      "     ------------------------- -------------- 21.2/32.8 MB 5.7 MB/s eta 0:00:03\n",
      "     -------------------------- ------------- 21.4/32.8 MB 5.7 MB/s eta 0:00:03\n",
      "     -------------------------- ------------- 21.7/32.8 MB 5.7 MB/s eta 0:00:02\n",
      "     -------------------------- ------------- 22.0/32.8 MB 5.6 MB/s eta 0:00:02\n",
      "     --------------------------- ------------ 22.3/32.8 MB 5.6 MB/s eta 0:00:02\n",
      "     --------------------------- ------------ 22.5/32.8 MB 5.6 MB/s eta 0:00:02\n",
      "     --------------------------- ------------ 22.7/32.8 MB 5.6 MB/s eta 0:00:02\n",
      "     ---------------------------- ----------- 23.0/32.8 MB 5.6 MB/s eta 0:00:02\n",
      "     ---------------------------- ----------- 23.3/32.8 MB 5.6 MB/s eta 0:00:02\n",
      "     ---------------------------- ----------- 23.5/32.8 MB 5.6 MB/s eta 0:00:02\n",
      "     ----------------------------- ---------- 23.8/32.8 MB 5.6 MB/s eta 0:00:02\n",
      "     ----------------------------- ---------- 24.1/32.8 MB 5.6 MB/s eta 0:00:02\n",
      "     ----------------------------- ---------- 24.4/32.8 MB 5.6 MB/s eta 0:00:02\n",
      "     ----------------------------- ---------- 24.6/32.8 MB 5.6 MB/s eta 0:00:02\n",
      "     ------------------------------ --------- 24.9/32.8 MB 5.6 MB/s eta 0:00:02\n",
      "     ------------------------------ --------- 25.2/32.8 MB 5.6 MB/s eta 0:00:02\n",
      "     ------------------------------- -------- 25.5/32.8 MB 5.6 MB/s eta 0:00:02\n",
      "     ------------------------------- -------- 25.7/32.8 MB 5.6 MB/s eta 0:00:02\n",
      "     ------------------------------- -------- 26.0/32.8 MB 5.6 MB/s eta 0:00:02\n",
      "     ------------------------------- -------- 26.3/32.8 MB 5.6 MB/s eta 0:00:02\n",
      "     -------------------------------- ------- 26.5/32.8 MB 5.5 MB/s eta 0:00:02\n",
      "     -------------------------------- ------- 26.8/32.8 MB 5.6 MB/s eta 0:00:02\n",
      "     -------------------------------- ------- 27.1/32.8 MB 5.6 MB/s eta 0:00:02\n",
      "     --------------------------------- ------ 27.3/32.8 MB 5.6 MB/s eta 0:00:01\n",
      "     --------------------------------- ------ 27.6/32.8 MB 5.6 MB/s eta 0:00:01\n",
      "     --------------------------------- ------ 27.8/32.8 MB 5.6 MB/s eta 0:00:01\n",
      "     ---------------------------------- ----- 28.1/32.8 MB 5.7 MB/s eta 0:00:01\n",
      "     ---------------------------------- ----- 28.3/32.8 MB 5.6 MB/s eta 0:00:01\n",
      "     ---------------------------------- ----- 28.6/32.8 MB 5.6 MB/s eta 0:00:01\n",
      "     ----------------------------------- ---- 28.9/32.8 MB 5.6 MB/s eta 0:00:01\n",
      "     ----------------------------------- ---- 29.2/32.8 MB 5.6 MB/s eta 0:00:01\n",
      "     ----------------------------------- ---- 29.5/32.8 MB 5.6 MB/s eta 0:00:01\n",
      "     ------------------------------------ --- 29.7/32.8 MB 5.6 MB/s eta 0:00:01\n",
      "     ------------------------------------ --- 30.0/32.8 MB 5.6 MB/s eta 0:00:01\n",
      "     ------------------------------------ --- 30.2/32.8 MB 5.6 MB/s eta 0:00:01\n",
      "     ------------------------------------- -- 30.5/32.8 MB 5.6 MB/s eta 0:00:01\n",
      "     ------------------------------------- -- 30.7/32.8 MB 5.6 MB/s eta 0:00:01\n",
      "     ------------------------------------- -- 31.0/32.8 MB 5.6 MB/s eta 0:00:01\n",
      "     -------------------------------------- - 31.3/32.8 MB 5.6 MB/s eta 0:00:01\n",
      "     -------------------------------------- - 31.6/32.8 MB 5.6 MB/s eta 0:00:01\n",
      "     -------------------------------------- - 31.8/32.8 MB 5.6 MB/s eta 0:00:01\n",
      "     ---------------------------------------  32.1/32.8 MB 5.6 MB/s eta 0:00:01\n",
      "     ---------------------------------------  32.4/32.8 MB 5.6 MB/s eta 0:00:01\n",
      "     ---------------------------------------  32.7/32.8 MB 5.6 MB/s eta 0:00:01\n",
      "     ---------------------------------------  32.8/32.8 MB 5.6 MB/s eta 0:00:01\n",
      "     ---------------------------------------  32.8/32.8 MB 5.6 MB/s eta 0:00:01\n",
      "     ---------------------------------------- 32.8/32.8 MB 5.4 MB/s eta 0:00:00\n",
      "Requirement already satisfied: requests>=2.26.0 in e:\\anaconda\\lib\\site-packages (from SpeechRecognition) (2.31.0)\n",
      "Requirement already satisfied: charset-normalizer<4,>=2 in e:\\anaconda\\lib\\site-packages (from requests>=2.26.0->SpeechRecognition) (2.0.4)\n",
      "Requirement already satisfied: idna<4,>=2.5 in e:\\anaconda\\lib\\site-packages (from requests>=2.26.0->SpeechRecognition) (3.4)\n",
      "Requirement already satisfied: urllib3<3,>=1.21.1 in e:\\anaconda\\lib\\site-packages (from requests>=2.26.0->SpeechRecognition) (1.26.16)\n",
      "Requirement already satisfied: certifi>=2017.4.17 in e:\\anaconda\\lib\\site-packages (from requests>=2.26.0->SpeechRecognition) (2023.7.22)\n",
      "Installing collected packages: SpeechRecognition\n",
      "Successfully installed SpeechRecognition-3.10.0\n",
      "Note: you may need to restart the kernel to use updated packages.\n"
     ]
    }
   ],
   "source": [
    "pip install SpeechRecognition\n"
   ]
  },
  {
   "cell_type": "code",
   "execution_count": 2,
   "id": "c89414e1",
   "metadata": {},
   "outputs": [
    {
     "name": "stdout",
     "output_type": "stream",
     "text": [
      "Requirement already satisfied: pyttsx3 in c:\\users\\sanchit goel\\anaconda3\\lib\\site-packages (2.90)\n",
      "Requirement already satisfied: pywin32 in c:\\users\\sanchit goel\\anaconda3\\lib\\site-packages (from pyttsx3) (302)\n",
      "Requirement already satisfied: comtypes in c:\\users\\sanchit goel\\anaconda3\\lib\\site-packages (from pyttsx3) (1.1.10)\n",
      "Requirement already satisfied: pypiwin32 in c:\\users\\sanchit goel\\anaconda3\\lib\\site-packages (from pyttsx3) (223)\n",
      "Note: you may need to restart the kernel to use updated packages.\n"
     ]
    }
   ],
   "source": [
    "pip install pyttsx3"
   ]
  },
  {
   "cell_type": "code",
   "execution_count": 3,
   "id": "b17b1dee",
   "metadata": {},
   "outputs": [
    {
     "name": "stdout",
     "output_type": "stream",
     "text": [
      "Requirement already satisfied: pyaudio in c:\\users\\sanchit goel\\anaconda3\\lib\\site-packages (0.2.12)\n",
      "Note: you may need to restart the kernel to use updated packages.\n"
     ]
    }
   ],
   "source": [
    "pip install pyaudio"
   ]
  },
  {
   "cell_type": "code",
   "execution_count": 4,
   "id": "d7d00fb5",
   "metadata": {},
   "outputs": [
    {
     "name": "stdout",
     "output_type": "stream",
     "text": [
      "Requirement already satisfied: pywhatkit in c:\\users\\sanchit goel\\anaconda3\\lib\\site-packages (5.4)\n",
      "Requirement already satisfied: Pillow in c:\\users\\sanchit goel\\anaconda3\\lib\\site-packages (from pywhatkit) (9.2.0)\n",
      "Requirement already satisfied: requests in c:\\users\\sanchit goel\\anaconda3\\lib\\site-packages (from pywhatkit) (2.28.1)\n",
      "Requirement already satisfied: wikipedia in c:\\users\\sanchit goel\\anaconda3\\lib\\site-packages (from pywhatkit) (1.4.0)\n",
      "Requirement already satisfied: pyautogui in c:\\users\\sanchit goel\\anaconda3\\lib\\site-packages (from pywhatkit) (0.9.53)\n",
      "Requirement already satisfied: Flask in c:\\users\\sanchit goel\\anaconda3\\lib\\site-packages (from pywhatkit) (1.1.2)\n",
      "Requirement already satisfied: itsdangerous>=0.24 in c:\\users\\sanchit goel\\anaconda3\\lib\\site-packages (from Flask->pywhatkit) (2.0.1)\n",
      "Requirement already satisfied: click>=5.1 in c:\\users\\sanchit goel\\anaconda3\\lib\\site-packages (from Flask->pywhatkit) (8.0.4)\n",
      "Requirement already satisfied: Jinja2>=2.10.1 in c:\\users\\sanchit goel\\anaconda3\\lib\\site-packages (from Flask->pywhatkit) (2.11.3)\n",
      "Requirement already satisfied: Werkzeug>=0.15 in c:\\users\\sanchit goel\\anaconda3\\lib\\site-packages (from Flask->pywhatkit) (2.0.3)\n",
      "Requirement already satisfied: pyscreeze>=0.1.21 in c:\\users\\sanchit goel\\anaconda3\\lib\\site-packages (from pyautogui->pywhatkit) (0.1.28)\n",
      "Requirement already satisfied: mouseinfo in c:\\users\\sanchit goel\\anaconda3\\lib\\site-packages (from pyautogui->pywhatkit) (0.1.3)\n",
      "Requirement already satisfied: PyTweening>=1.0.1 in c:\\users\\sanchit goel\\anaconda3\\lib\\site-packages (from pyautogui->pywhatkit) (1.0.4)\n",
      "Requirement already satisfied: pymsgbox in c:\\users\\sanchit goel\\anaconda3\\lib\\site-packages (from pyautogui->pywhatkit) (1.0.9)\n",
      "Requirement already satisfied: pygetwindow>=0.0.5 in c:\\users\\sanchit goel\\anaconda3\\lib\\site-packages (from pyautogui->pywhatkit) (0.0.9)\n",
      "Requirement already satisfied: urllib3<1.27,>=1.21.1 in c:\\users\\sanchit goel\\anaconda3\\lib\\site-packages (from requests->pywhatkit) (1.26.11)\n",
      "Requirement already satisfied: idna<4,>=2.5 in c:\\users\\sanchit goel\\anaconda3\\lib\\site-packages (from requests->pywhatkit) (3.3)\n",
      "Requirement already satisfied: charset-normalizer<3,>=2 in c:\\users\\sanchit goel\\anaconda3\\lib\\site-packages (from requests->pywhatkit) (2.0.4)\n",
      "Requirement already satisfied: certifi>=2017.4.17 in c:\\users\\sanchit goel\\anaconda3\\lib\\site-packages (from requests->pywhatkit) (2022.9.14)\n",
      "Requirement already satisfied: beautifulsoup4 in c:\\users\\sanchit goel\\anaconda3\\lib\\site-packages (from wikipedia->pywhatkit) (4.11.1)\n",
      "Requirement already satisfied: colorama in c:\\users\\sanchit goel\\anaconda3\\lib\\site-packages (from click>=5.1->Flask->pywhatkit) (0.4.5)\n",
      "Requirement already satisfied: MarkupSafe>=0.23 in c:\\users\\sanchit goel\\anaconda3\\lib\\site-packages (from Jinja2>=2.10.1->Flask->pywhatkit) (2.0.1)\n",
      "Requirement already satisfied: pyrect in c:\\users\\sanchit goel\\anaconda3\\lib\\site-packages (from pygetwindow>=0.0.5->pyautogui->pywhatkit) (0.2.0)\n",
      "Requirement already satisfied: soupsieve>1.2 in c:\\users\\sanchit goel\\anaconda3\\lib\\site-packages (from beautifulsoup4->wikipedia->pywhatkit) (2.3.1)\n",
      "Requirement already satisfied: pyperclip in c:\\users\\sanchit goel\\anaconda3\\lib\\site-packages (from mouseinfo->pyautogui->pywhatkit) (1.8.2)\n",
      "Note: you may need to restart the kernel to use updated packages.\n"
     ]
    }
   ],
   "source": [
    "pip install pywhatkit"
   ]
  },
  {
   "cell_type": "code",
   "execution_count": 5,
   "id": "10ce5c13",
   "metadata": {},
   "outputs": [
    {
     "name": "stdout",
     "output_type": "stream",
     "text": [
      "Requirement already satisfied: wikipedia in c:\\users\\sanchit goel\\anaconda3\\lib\\site-packages (1.4.0)\n",
      "Requirement already satisfied: beautifulsoup4 in c:\\users\\sanchit goel\\anaconda3\\lib\\site-packages (from wikipedia) (4.11.1)\n",
      "Requirement already satisfied: requests<3.0.0,>=2.0.0 in c:\\users\\sanchit goel\\anaconda3\\lib\\site-packages (from wikipedia) (2.28.1)\n",
      "Requirement already satisfied: certifi>=2017.4.17 in c:\\users\\sanchit goel\\anaconda3\\lib\\site-packages (from requests<3.0.0,>=2.0.0->wikipedia) (2022.9.14)\n",
      "Requirement already satisfied: charset-normalizer<3,>=2 in c:\\users\\sanchit goel\\anaconda3\\lib\\site-packages (from requests<3.0.0,>=2.0.0->wikipedia) (2.0.4)\n",
      "Requirement already satisfied: idna<4,>=2.5 in c:\\users\\sanchit goel\\anaconda3\\lib\\site-packages (from requests<3.0.0,>=2.0.0->wikipedia) (3.3)\n",
      "Requirement already satisfied: urllib3<1.27,>=1.21.1 in c:\\users\\sanchit goel\\anaconda3\\lib\\site-packages (from requests<3.0.0,>=2.0.0->wikipedia) (1.26.11)\n",
      "Requirement already satisfied: soupsieve>1.2 in c:\\users\\sanchit goel\\anaconda3\\lib\\site-packages (from beautifulsoup4->wikipedia) (2.3.1)\n",
      "Note: you may need to restart the kernel to use updated packages.\n"
     ]
    }
   ],
   "source": [
    "pip install wikipedia"
   ]
  },
  {
   "cell_type": "code",
   "execution_count": 6,
   "id": "166a58e1",
   "metadata": {},
   "outputs": [
    {
     "name": "stdout",
     "output_type": "stream",
     "text": [
      "Requirement already satisfied: pyjokes in c:\\users\\sanchit goel\\anaconda3\\lib\\site-packages (0.6.0)\n",
      "Note: you may need to restart the kernel to use updated packages.\n"
     ]
    }
   ],
   "source": [
    "pip install pyjokes"
   ]
  },
  {
   "cell_type": "code",
   "execution_count": 7,
   "id": "05ec2b75",
   "metadata": {},
   "outputs": [
    {
     "name": "stdout",
     "output_type": "stream",
     "text": [
      "Requirement already satisfied: python-weather in c:\\users\\sanchit goel\\anaconda3\\lib\\site-packages (0.4.3)\n",
      "Requirement already satisfied: aiohttp in c:\\users\\sanchit goel\\anaconda3\\lib\\site-packages (from python-weather) (3.8.3)\n",
      "Requirement already satisfied: frozenlist>=1.1.1 in c:\\users\\sanchit goel\\anaconda3\\lib\\site-packages (from aiohttp->python-weather) (1.3.3)\n",
      "Requirement already satisfied: async-timeout<5.0,>=4.0.0a3 in c:\\users\\sanchit goel\\anaconda3\\lib\\site-packages (from aiohttp->python-weather) (4.0.2)\n",
      "Requirement already satisfied: multidict<7.0,>=4.5 in c:\\users\\sanchit goel\\anaconda3\\lib\\site-packages (from aiohttp->python-weather) (6.0.3)\n",
      "Requirement already satisfied: yarl<2.0,>=1.0 in c:\\users\\sanchit goel\\anaconda3\\lib\\site-packages (from aiohttp->python-weather) (1.8.2)\n",
      "Requirement already satisfied: attrs>=17.3.0 in c:\\users\\sanchit goel\\anaconda3\\lib\\site-packages (from aiohttp->python-weather) (21.4.0)\n",
      "Requirement already satisfied: charset-normalizer<3.0,>=2.0 in c:\\users\\sanchit goel\\anaconda3\\lib\\site-packages (from aiohttp->python-weather) (2.0.4)\n",
      "Requirement already satisfied: aiosignal>=1.1.2 in c:\\users\\sanchit goel\\anaconda3\\lib\\site-packages (from aiohttp->python-weather) (1.3.1)\n",
      "Requirement already satisfied: idna>=2.0 in c:\\users\\sanchit goel\\anaconda3\\lib\\site-packages (from yarl<2.0,>=1.0->aiohttp->python-weather) (3.3)\n",
      "Note: you may need to restart the kernel to use updated packages.\n"
     ]
    }
   ],
   "source": [
    "pip install python-weather"
   ]
  },
  {
   "cell_type": "code",
   "execution_count": 8,
   "id": "6cbe29e5",
   "metadata": {},
   "outputs": [],
   "source": [
    "import speech_recognition as sr"
   ]
  },
  {
   "cell_type": "code",
   "execution_count": 9,
   "id": "85d03019",
   "metadata": {},
   "outputs": [],
   "source": [
    "#To make the voice assistance speak to you\n",
    "import pyttsx3"
   ]
  },
  {
   "cell_type": "code",
   "execution_count": 10,
   "id": "4e957bc3",
   "metadata": {},
   "outputs": [],
   "source": [
    "#To get handsonn the youtube videos and stuff\n",
    "import pywhatkit"
   ]
  },
  {
   "cell_type": "code",
   "execution_count": 11,
   "id": "71ac7421",
   "metadata": {},
   "outputs": [],
   "source": [
    "#To get time and date\n",
    "import datetime"
   ]
  },
  {
   "cell_type": "code",
   "execution_count": 12,
   "id": "7b1e4e7c",
   "metadata": {},
   "outputs": [],
   "source": [
    "#To get information\n",
    "import wikipedia"
   ]
  },
  {
   "cell_type": "code",
   "execution_count": 13,
   "id": "f7708170",
   "metadata": {},
   "outputs": [],
   "source": [
    "#To get jokes\n",
    "import pyjokes"
   ]
  },
  {
   "cell_type": "code",
   "execution_count": 14,
   "id": "a9161b54",
   "metadata": {},
   "outputs": [
    {
     "name": "stdout",
     "output_type": "stream",
     "text": [
      "Requirement already satisfied: Flask in c:\\users\\sanchit goel\\anaconda3\\lib\\site-packages (1.1.2)\n",
      "Requirement already satisfied: Jinja2>=2.10.1 in c:\\users\\sanchit goel\\anaconda3\\lib\\site-packages (from Flask) (2.11.3)\n",
      "Requirement already satisfied: click>=5.1 in c:\\users\\sanchit goel\\anaconda3\\lib\\site-packages (from Flask) (8.0.4)\n",
      "Requirement already satisfied: Werkzeug>=0.15 in c:\\users\\sanchit goel\\anaconda3\\lib\\site-packages (from Flask) (2.0.3)\n",
      "Requirement already satisfied: itsdangerous>=0.24 in c:\\users\\sanchit goel\\anaconda3\\lib\\site-packages (from Flask) (2.0.1)\n",
      "Requirement already satisfied: colorama in c:\\users\\sanchit goel\\anaconda3\\lib\\site-packages (from click>=5.1->Flask) (0.4.5)\n",
      "Requirement already satisfied: MarkupSafe>=0.23 in c:\\users\\sanchit goel\\anaconda3\\lib\\site-packages (from Jinja2>=2.10.1->Flask) (2.0.1)\n",
      "Note: you may need to restart the kernel to use updated packages.\n"
     ]
    }
   ],
   "source": [
    "pip install Flask"
   ]
  },
  {
   "cell_type": "code",
   "execution_count": 15,
   "id": "e48c60fd",
   "metadata": {},
   "outputs": [],
   "source": [
    "listener = sr.Recognizer()\n",
    "\n",
    "#to initialize the engine\n",
    "engine = pyttsx3.init()\n",
    "\n",
    "#engine.say('Hello I am your Alexa')\n",
    "#engine.say('What can i do for you')\n",
    "#engine.runAndWait()\n",
    "\n",
    "#change the voice to female\n",
    "#voices = engine.getProperty('voices')\n",
    "#engine.setProperty('voice', voices[1].id)\n",
    "\n",
    "def talk(text):\n",
    "    engine.say(text)\n",
    "    engine.runAndWait()\n",
    "\n",
    "#microphone might not work\n",
    "def take_command():\n",
    "    try:\n",
    "        with sr.Microphone() as source:\n",
    "            print('listening....')\n",
    "            voice = listener.listen(source)\n",
    "            command =listener.recognize_google(voice)\n",
    "            command = command.lower()\n",
    "            if 'alexa' in command:\n",
    "                command = command.replace('alexa', '')\n",
    "\n",
    "                #print(command)\n",
    "                talk(command)\n",
    "    except:\n",
    "        pass\n",
    "    \n",
    "    return command  "
   ]
  },
  {
   "cell_type": "code",
   "execution_count": 16,
   "id": "56e50728",
   "metadata": {},
   "outputs": [
    {
     "name": "stdout",
     "output_type": "stream",
     "text": [
      "listening....\n",
      "result2:\n",
      "{   'alternative': [   {'confidence': 0.92995489, 'transcript': 'Alexa'},\n",
      "                       {'transcript': 'Alexa app'},\n",
      "                       {'transcript': 'aleksa'},\n",
      "                       {'transcript': 'alexxa'},\n",
      "                       {'transcript': 'nexa'}],\n",
      "    'final': True}\n",
      "\n",
      "listening....\n",
      "result2:\n",
      "{   'alternative': [   {   'confidence': 0.90421581,\n",
      "                           'transcript': 'play Arijit Singh'},\n",
      "                       {'transcript': 'Arijit Singh'},\n",
      "                       {'transcript': 'arijeet Singh'},\n",
      "                       {'transcript': 'play arijeet Singh'},\n",
      "                       {'transcript': 'Harjeet Singh'}],\n",
      "    'final': True}\n",
      "play arijit singh\n",
      "listening....\n",
      "result2:\n",
      "[]\n"
     ]
    },
    {
     "ename": "UnboundLocalError",
     "evalue": "local variable 'command' referenced before assignment",
     "output_type": "error",
     "traceback": [
      "\u001b[1;31m---------------------------------------------------------------------------\u001b[0m",
      "\u001b[1;31mUnboundLocalError\u001b[0m                         Traceback (most recent call last)",
      "\u001b[1;32m~\\AppData\\Local\\Temp\\ipykernel_19064\\1886474771.py\u001b[0m in \u001b[0;36m<module>\u001b[1;34m\u001b[0m\n\u001b[0;32m     23\u001b[0m \u001b[1;31m#To run this without a break in a loop\u001b[0m\u001b[1;33m\u001b[0m\u001b[1;33m\u001b[0m\u001b[0m\n\u001b[0;32m     24\u001b[0m \u001b[1;32mwhile\u001b[0m \u001b[1;32mTrue\u001b[0m\u001b[1;33m:\u001b[0m\u001b[1;33m\u001b[0m\u001b[1;33m\u001b[0m\u001b[0m\n\u001b[1;32m---> 25\u001b[1;33m     \u001b[0mrun_alexa\u001b[0m\u001b[1;33m(\u001b[0m\u001b[1;33m)\u001b[0m\u001b[1;33m\u001b[0m\u001b[1;33m\u001b[0m\u001b[0m\n\u001b[0m",
      "\u001b[1;32m~\\AppData\\Local\\Temp\\ipykernel_19064\\1886474771.py\u001b[0m in \u001b[0;36mrun_alexa\u001b[1;34m()\u001b[0m\n\u001b[0;32m      1\u001b[0m \u001b[1;32mdef\u001b[0m \u001b[0mrun_alexa\u001b[0m\u001b[1;33m(\u001b[0m\u001b[1;33m)\u001b[0m\u001b[1;33m:\u001b[0m\u001b[1;33m\u001b[0m\u001b[1;33m\u001b[0m\u001b[0m\n\u001b[1;32m----> 2\u001b[1;33m     \u001b[0mcommand\u001b[0m \u001b[1;33m=\u001b[0m \u001b[0mtake_command\u001b[0m\u001b[1;33m(\u001b[0m\u001b[1;33m)\u001b[0m\u001b[1;33m\u001b[0m\u001b[1;33m\u001b[0m\u001b[0m\n\u001b[0m\u001b[0;32m      3\u001b[0m     \u001b[0mprint\u001b[0m\u001b[1;33m(\u001b[0m\u001b[0mcommand\u001b[0m\u001b[1;33m)\u001b[0m\u001b[1;33m\u001b[0m\u001b[1;33m\u001b[0m\u001b[0m\n\u001b[0;32m      4\u001b[0m     \u001b[1;32mif\u001b[0m \u001b[1;34m'play'\u001b[0m \u001b[1;32min\u001b[0m \u001b[0mcommand\u001b[0m\u001b[1;33m:\u001b[0m\u001b[1;33m\u001b[0m\u001b[1;33m\u001b[0m\u001b[0m\n\u001b[0;32m      5\u001b[0m         \u001b[0msong\u001b[0m \u001b[1;33m=\u001b[0m \u001b[0mcommand\u001b[0m\u001b[1;33m.\u001b[0m\u001b[0mreplace\u001b[0m\u001b[1;33m(\u001b[0m\u001b[1;34m'play'\u001b[0m\u001b[1;33m,\u001b[0m\u001b[1;34m''\u001b[0m\u001b[1;33m)\u001b[0m\u001b[1;33m\u001b[0m\u001b[1;33m\u001b[0m\u001b[0m\n",
      "\u001b[1;32m~\\AppData\\Local\\Temp\\ipykernel_19064\\3619025622.py\u001b[0m in \u001b[0;36mtake_command\u001b[1;34m()\u001b[0m\n\u001b[0;32m     32\u001b[0m         \u001b[1;32mpass\u001b[0m\u001b[1;33m\u001b[0m\u001b[1;33m\u001b[0m\u001b[0m\n\u001b[0;32m     33\u001b[0m \u001b[1;33m\u001b[0m\u001b[0m\n\u001b[1;32m---> 34\u001b[1;33m     \u001b[1;32mreturn\u001b[0m \u001b[0mcommand\u001b[0m\u001b[1;33m\u001b[0m\u001b[1;33m\u001b[0m\u001b[0m\n\u001b[0m",
      "\u001b[1;31mUnboundLocalError\u001b[0m: local variable 'command' referenced before assignment"
     ]
    }
   ],
   "source": [
    "def run_alexa():\n",
    "    command = take_command()\n",
    "    print(command)\n",
    "    if 'play' in command:\n",
    "        song = command.replace('play','')\n",
    "        talk('playing' + song)\n",
    "        pywhatkit.playonyt(song)\n",
    "    elif 'time' in command:\n",
    "        time = datetime.datetime.now().strftime('%H:%M %p')\n",
    "        talk('Current time is ' + time)\n",
    "    elif 'who is' in command:\n",
    "        person = command.replace('who is', '')\n",
    "        info = wikipedia.summary(person, 1)\n",
    "        print(info)\n",
    "        talk(info)\n",
    "    elif 'joke' in command:\n",
    "        talk(pyjokes.get_jokes())\n",
    "    elif 'weather' in command:\n",
    "        talk()\n",
    "    else:\n",
    "        talk('Please repeat the command')\n",
    "        \n",
    "#To run this without a break in a loop      \n",
    "while True:\n",
    "    run_alexa()"
   ]
  },
  {
   "cell_type": "code",
   "execution_count": null,
   "id": "57813b81",
   "metadata": {},
   "outputs": [],
   "source": []
  },
  {
   "cell_type": "code",
   "execution_count": null,
   "id": "cd7c5993",
   "metadata": {},
   "outputs": [],
   "source": []
  }
 ],
 "metadata": {
  "kernelspec": {
   "display_name": "Python 3 (ipykernel)",
   "language": "python",
   "name": "python3"
  },
  "language_info": {
   "codemirror_mode": {
    "name": "ipython",
    "version": 3
   },
   "file_extension": ".py",
   "mimetype": "text/x-python",
   "name": "python",
   "nbconvert_exporter": "python",
   "pygments_lexer": "ipython3",
   "version": "3.11.5"
  }
 },
 "nbformat": 4,
 "nbformat_minor": 5
}
